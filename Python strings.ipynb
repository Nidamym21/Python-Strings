{
 "cells": [
  {
   "cell_type": "markdown",
   "id": "6c0573d5-5843-414e-b675-e65ddb1208dd",
   "metadata": {},
   "source": [
    "# Python Strings\n",
    "- In Python, strings are sequences of characters enclosed in either single quotes ('...') or double quotes (\"...\"). \n",
    "- They are used to represent text data.\n",
    "- Strings are one of the most commonly used data types in any programming language.\n",
    "-  They can be used to represent text, numbers, symbols, or any combination of characters.\n",
    "\n",
    "  ##  Characterstics\n",
    "-  Immutable: Once created, they cannot be changed.\n",
    "-  Indexed: Each character in a string has a specific index, starting from 0.\n",
    "-  Slicing: Subsets of strings can be obtained using slicing"
   ]
  },
  {
   "cell_type": "markdown",
   "id": "b69893fd-51c9-4f05-b6e1-ec58cb6152b2",
   "metadata": {},
   "source": [
    "###  For Example:"
   ]
  },
  {
   "cell_type": "code",
   "execution_count": 71,
   "id": "f1badddd-e5c9-4a2e-aa11-0ca7b309ea40",
   "metadata": {},
   "outputs": [
    {
     "name": "stdout",
     "output_type": "stream",
     "text": [
      "H\n",
      "g\n",
      "Hello\n"
     ]
    }
   ],
   "source": [
    "# Example of a string\n",
    "str1 = \"Hello, World!\"  \n",
    "str2 = 'Python Programming'\n",
    "\n",
    "# Accessing individual characters using index\n",
    "print(str1[0])  \n",
    "print(str2[-1]) \n",
    "\n",
    "# Slicing a string\n",
    "print(str1[0:5]) \n"
   ]
  },
  {
   "cell_type": "markdown",
   "id": "ae75faf3-c632-49d7-9c84-6d3fe06904ee",
   "metadata": {},
   "source": [
    "# Representation of strings\n",
    "\n",
    "- In Python, strings can be represented using different types of quotation marks: single quotes ('...'), double quotes (\"...\"), or triple quotes ('''...''' or \"\"\"...\"\"\").\n",
    "- Below are the representations for the strings:"
   ]
  },
  {
   "cell_type": "code",
   "execution_count": 2,
   "id": "e28a8ac5-6735-4a07-bdce-379aa32ef9d9",
   "metadata": {},
   "outputs": [],
   "source": [
    "string1 = 'Hello world'       # Single-quoted string\n",
    "string2 = \"python is easy\"     # Double-quoted string\n",
    "string3 = \"\"\"python is fun\"\"\"  # Triple-quoted string (also useful for multiline text)\n",
    "string4 = 'this is a string'   # Another single-quoted string\n",
    "string5 = \"12345\"              # Double-quoted string containing numeric characters\n"
   ]
  },
  {
   "cell_type": "markdown",
   "id": "83cd8922-098e-40e0-bdbc-50516600e50f",
   "metadata": {},
   "source": [
    "# Operations with Strings:\n",
    "\n",
    "## - Concatenation: \n",
    "Joining strings with +.\n",
    "## - Repetition: \n",
    "Repeating strings with *."
   ]
  },
  {
   "cell_type": "code",
   "execution_count": 70,
   "id": "9e6e0396-5e22-46ae-b6b9-0ba58c9d958e",
   "metadata": {},
   "outputs": [
    {
     "name": "stdout",
     "output_type": "stream",
     "text": [
      "Hello, World!Hello, World!\n"
     ]
    }
   ],
   "source": [
    "# Concatenation\n",
    "str3 = str1 + \" \" + str2  \n",
    "\n",
    "# Repetition\n",
    "print(str1 * 2)  \n"
   ]
  },
  {
   "cell_type": "markdown",
   "id": "7a9071f2-9596-41df-aeef-7895ea962185",
   "metadata": {},
   "source": [
    "## Concatenation Examples"
   ]
  },
  {
   "cell_type": "code",
   "execution_count": 6,
   "id": "bffeba6b-ad96-412f-bca4-089522e37f5d",
   "metadata": {},
   "outputs": [
    {
     "name": "stdout",
     "output_type": "stream",
     "text": [
      "Hello worldpython is easypython is funthis is a string12345\n"
     ]
    }
   ],
   "source": [
    "result = string1 + string2 + string3 + string4 + string5\n",
    "print(result)\n"
   ]
  },
  {
   "cell_type": "code",
   "execution_count": 7,
   "id": "62bbc0ed-13f9-45f5-8998-f4eabbe77a74",
   "metadata": {},
   "outputs": [
    {
     "name": "stdout",
     "output_type": "stream",
     "text": [
      "Hello world,python is easy,python is fun,this is a string,12345\n"
     ]
    }
   ],
   "source": [
    "result = string1 + \",\" + string2 + \",\" + string3 + \",\" + string4 + \",\" + string5\n",
    "print(result)"
   ]
  },
  {
   "cell_type": "code",
   "execution_count": 9,
   "id": "b10b90b5-fbfb-4c74-be46-43ee89af1f0a",
   "metadata": {},
   "outputs": [
    {
     "name": "stdout",
     "output_type": "stream",
     "text": [
      "Hello, World\n",
      "Python is fun\n",
      "Learning Python\n",
      "Python Programming\n",
      "123, 456\n"
     ]
    }
   ],
   "source": [
    "# 1. Single-quoted strings with a comma for spacing\n",
    "string1 = 'Hello'\n",
    "string2 = 'World'\n",
    "result = string1 + ', ' + string2\n",
    "print(result) \n",
    "\n",
    "# 2. Double-quoted strings with space between them\n",
    "string3 = \"Python\"\n",
    "string4 = \"is fun\"\n",
    "result = string3 + \" \" + string4\n",
    "print(result) \n",
    "\n",
    "# 3. Concatenation of single and double-quoted strings\n",
    "string5 = 'Learning'\n",
    "string6 = \"Python\"\n",
    "result = string5 + \" \" + string6\n",
    "print(result) \n",
    "\n",
    "# 4. Triple-quoted and double-quoted strings\n",
    "string7 = \"\"\"Python\"\"\"\n",
    "string8 = \"Programming\"\n",
    "result = string7 + \" \" + string8\n",
    "print(result) \n",
    "\n",
    "# 5. Concatenation with numbers (as strings)\n",
    "string9 = '123'\n",
    "string10 = '456'\n",
    "result = string9 + ', ' + string10\n",
    "print(result)  \n"
   ]
  },
  {
   "cell_type": "markdown",
   "id": "91be00ba-1d62-40e2-9153-16ced122be8f",
   "metadata": {},
   "source": [
    " # Repetition Examples :"
   ]
  },
  {
   "cell_type": "code",
   "execution_count": 11,
   "id": "6cd98672-3447-4250-86ac-ba38440ed116",
   "metadata": {},
   "outputs": [
    {
     "name": "stdout",
     "output_type": "stream",
     "text": [
      "Hello world \n",
      "Hello world \n",
      "Hello world \n",
      "Hello world \n",
      "Hello world \n",
      "\n"
     ]
    }
   ],
   "source": [
    "string6 = 'Hello world \\n' \n",
    "string7 = \"python is easy \\n\" \n",
    "string8 = \"\"\"python is fun \\n\"\"\" \n",
    "string9 = 'this is a string \\n' \n",
    "string10 = \"12345 \\n\"\n",
    "\n",
    "result1 = string6*5\n",
    "print(result1)"
   ]
  },
  {
   "cell_type": "code",
   "execution_count": 12,
   "id": "e921f881-c127-497f-ab15-c74319eae790",
   "metadata": {},
   "outputs": [
    {
     "name": "stdout",
     "output_type": "stream",
     "text": [
      "HiHiHi\n",
      "Python Python \n",
      "CodeCodeCodeCode\n",
      "Repeat Repeat Repeat \n",
      "123 123 123 123 123 \n"
     ]
    }
   ],
   "source": [
    "# 1. Repetition of a single-quoted string\n",
    "string1 = 'Hi'\n",
    "result = string1 * 3\n",
    "print(result)  \n",
    "\n",
    "# 2. Repetition of a double-quoted string\n",
    "string2 = \"Python \"\n",
    "result = string2 * 2\n",
    "print(result) \n",
    "\n",
    "# 3. Repetition of a single word using single and double quotes\n",
    "string3 = 'Code'\n",
    "result = string3 * 4\n",
    "print(result) \n",
    "\n",
    "# 4. Repetition of a sentence with triple quotes\n",
    "string4 = \"\"\"Repeat \"\"\"\n",
    "result = string4 * 3\n",
    "print(result)  \n",
    "\n",
    "# 5. Repetition of numbers as strings\n",
    "string5 = \"123 \"\n",
    "result = string5 * 5\n",
    "print(result)  \n"
   ]
  },
  {
   "cell_type": "markdown",
   "id": "2bccca51-87e7-43ac-b66c-d3a4b208fa3e",
   "metadata": {},
   "source": [
    "## Indexing \n",
    "- In Python, indexing allows you to access individual characters in a string based on their position. \n",
    "- Each character in a string has an index number:\n",
    "\n",
    "- Positive Indexing: Starts from 0 for the first character.\n",
    "- Negative Indexing: Starts from -1 for the last character, going backward.\n"
   ]
  },
  {
   "cell_type": "code",
   "execution_count": 13,
   "id": "d630a239-3a5f-417c-89a4-aa431c873261",
   "metadata": {},
   "outputs": [
    {
     "name": "stdout",
     "output_type": "stream",
     "text": [
      "P\n",
      "t\n",
      "n\n",
      "t\n"
     ]
    }
   ],
   "source": [
    "\n",
    "string1 = \"Python\"\n",
    "\n",
    "# Positive indexing\n",
    "print(string1[0])\n",
    "print(string1[2]) \n",
    "\n",
    "# Negative indexing\n",
    "print(string1[-1])  \n",
    "print(string1[-4])  \n"
   ]
  },
  {
   "cell_type": "code",
   "execution_count": 18,
   "id": "5722ea59-8198-4409-b8e6-9a43df71ca42",
   "metadata": {},
   "outputs": [
    {
     "name": "stdout",
     "output_type": "stream",
     "text": [
      " \n",
      "n\n",
      "a\n",
      "n\n",
      "n\n",
      "a\n",
      "t\n",
      "f\n",
      "e\n",
      "e\n"
     ]
    }
   ],
   "source": [
    "\n",
    "my_string = (\"Python programming is a highly valuable skill in today's tech-driven world. \"\n",
    "             \"With its extensive libraries and frameworks, Python enables developers to build a variety of applications. \"\n",
    "             \"From web development and data analysis to artificial intelligence and automation, Python's versatility is unmatched. \"\n",
    "             \"Learning Python opens up numerous career opportunities and helps in tackling complex problems efficiently. \"\n",
    "             \"The language's readable syntax and strong community support make it an ideal choice for both beginners and experts.\")\n",
    "\n",
    "\n",
    "print(my_string[21])\n",
    "print(my_string[47])\n",
    "print(my_string[105])\n",
    "print(my_string[129])\n",
    "print(my_string[201])\n",
    "print(my_string[249])\n",
    "print(my_string[311])\n",
    "print(my_string[395])\n",
    "print(my_string[409])\n",
    "print(my_string[418])\n"
   ]
  },
  {
   "cell_type": "markdown",
   "id": "df24c66d-d11a-4d7e-bc75-f55e480738de",
   "metadata": {},
   "source": [
    "# Slicing\n",
    "- Slicing in Python allows you to extract a part of a string by specifying a start index, an end index, and an optional step.\n",
    "-  Extracting a substring from a string\n",
    "\n",
    "- substring = string[start:end:step]\n",
    "  \r",
    "### Examples:\n"
   ]
  },
  {
   "cell_type": "code",
   "execution_count": 21,
   "id": "d5fd2202-75cd-49bd-abbf-13402630e4a3",
   "metadata": {},
   "outputs": [
    {
     "name": "stdout",
     "output_type": "stream",
     "text": [
      "Python\n",
      "programming\n",
      "is fun and versatile.\n",
      "Python\n",
      "Pto rgamn sfnadvraie\n",
      ".elitasrev dna nuf si gnimmargorp nohtyP\n"
     ]
    }
   ],
   "source": [
    "\n",
    "my_string = \"Python programming is fun and versatile.\"\n",
    "\n",
    "# Slicing examples\n",
    "print(my_string[0:6])   \n",
    "print(my_string[7:18])  \n",
    "print(my_string[19:])   \n",
    "print(my_string[:6])    \n",
    "print(my_string[::2])   \n",
    "print(my_string[::-1])  "
   ]
  },
  {
   "cell_type": "code",
   "execution_count": 23,
   "id": "90121b67-be8b-44d1-8054-234d1b6b2f00",
   "metadata": {},
   "outputs": [
    {
     "name": "stdout",
     "output_type": "stream",
     "text": [
      "llo,\n"
     ]
    }
   ],
   "source": [
    "text = \"Hello, World!\"\n",
    "s = text[2:6] \n",
    "print(s)"
   ]
  },
  {
   "cell_type": "code",
   "execution_count": 24,
   "id": "523b75a5-ec0c-41a0-9ae2-7680562a496e",
   "metadata": {},
   "outputs": [
    {
     "name": "stdout",
     "output_type": "stream",
     "text": [
      "World\n"
     ]
    }
   ],
   "source": [
    "text = \"Hello, World!\"\n",
    "s = text[-6:-1]  \n",
    "print(s)  "
   ]
  },
  {
   "cell_type": "code",
   "execution_count": 25,
   "id": "4dcd6cba-54ce-433f-8c2f-5349bff57f3b",
   "metadata": {},
   "outputs": [
    {
     "name": "stdout",
     "output_type": "stream",
     "text": [
      "Hello,\n"
     ]
    }
   ],
   "source": [
    "text = \"Hello, World!\"\n",
    "a = text[:6]  \n",
    "print(a) "
   ]
  },
  {
   "cell_type": "code",
   "execution_count": 26,
   "id": "ae610d11-b3e0-4d3a-9161-6548e45cf5a4",
   "metadata": {},
   "outputs": [
    {
     "name": "stdout",
     "output_type": "stream",
     "text": [
      "World!\n"
     ]
    }
   ],
   "source": [
    "text = \"Hello, World!\"\n",
    "a = text[7:]  \n",
    "print(a) "
   ]
  },
  {
   "cell_type": "markdown",
   "id": "bf2ef123-6317-4125-97db-1d33933fca2b",
   "metadata": {},
   "source": [
    "# Python Formats \n",
    "- In Python, you can format strings using several methods to insert values into a string.\n",
    "\n",
    "- Here are some common techniques:"
   ]
  },
  {
   "cell_type": "markdown",
   "id": "3d70ab30-f640-4a17-957a-59bd516fd141",
   "metadata": {},
   "source": [
    "# Old-Style Formatting (% Operator)\n",
    "This method uses % to format strings."
   ]
  },
  {
   "cell_type": "code",
   "execution_count": 69,
   "id": "b70cf818-4ba8-4fff-9e15-f3d0e351d3f0",
   "metadata": {},
   "outputs": [
    {
     "name": "stdout",
     "output_type": "stream",
     "text": [
      "My name is Nida and I am 20 years old.\n",
      "The current temperature is 23.46 degrees Celsius.\n",
      "New York has a population of 8419000.\n"
     ]
    }
   ],
   "source": [
    "\n",
    "name = \"Nida\"\n",
    "age = 20\n",
    "formatted_string = \"My name is %s and I am %d years old.\" % (name, age)\n",
    "print(formatted_string)  \n",
    "\n",
    "\n",
    "temperature = 23.456\n",
    "formatted_string = \"The current temperature is %.2f degrees Celsius.\" % temperature\n",
    "print(formatted_string)  \n",
    "\n",
    "\n",
    "city = \"New York\"\n",
    "population = 8419000\n",
    "formatted_string = \"%s has a population of %d.\" % (city, population)\n",
    "print(formatted_string)  \n"
   ]
  },
  {
   "cell_type": "markdown",
   "id": "31c26656-44c0-4740-b995-932fb7fdd99c",
   "metadata": {},
   "source": [
    "# Format method\n",
    "Uses the format () with placeholders"
   ]
  },
  {
   "cell_type": "code",
   "execution_count": 31,
   "id": "8cf41f70-7e93-42d6-ba02-56a9feab992d",
   "metadata": {},
   "outputs": [
    {
     "name": "stdout",
     "output_type": "stream",
     "text": [
      "Name: Nida, Age: 20\n"
     ]
    }
   ],
   "source": [
    "name = \"Nida\"\n",
    "age = 20\n",
    "a = \"Name: {}, Age: {}\".format(name, age)\n",
    "print(a)"
   ]
  },
  {
   "cell_type": "code",
   "execution_count": 32,
   "id": "72acbc18-db45-4f22-b229-c8e81abd0995",
   "metadata": {},
   "outputs": [
    {
     "name": "stdout",
     "output_type": "stream",
     "text": [
      "my name is apple and my price is 80.\n"
     ]
    }
   ],
   "source": [
    "fruit = \"apple\"\n",
    "price = 80\n",
    "formatted_string=\"my name is {} and my price is {}.\".format(fruit,price)\n",
    "print(formatted_string)"
   ]
  },
  {
   "cell_type": "code",
   "execution_count": 33,
   "id": "303a0f21-ce05-4232-92dc-49b7248d395e",
   "metadata": {},
   "outputs": [
    {
     "name": "stdout",
     "output_type": "stream",
     "text": [
      "The temperature in Los Angeles is 28.7 degrees Celsius.\n"
     ]
    }
   ],
   "source": [
    "city = \"Los Angeles\"\n",
    "temperature = 28.7\n",
    "formatted_string = \"The temperature in {} is {:.1f} degrees Celsius.\".format(city, temperature)\n",
    "print(formatted_string)"
   ]
  },
  {
   "cell_type": "markdown",
   "id": "3c0cbc34-3a15-4a3a-82fa-c9e266342c50",
   "metadata": {},
   "source": [
    "# String Interpolation using f-strings\n",
    "f-strings allow you to insert variables, expressions, and even functions within the string by placing them inside curly braces {}."
   ]
  },
  {
   "cell_type": "code",
   "execution_count": 35,
   "id": "44cc23d7-5cd3-4c64-8e17-63d4ca69789d",
   "metadata": {},
   "outputs": [
    {
     "name": "stdout",
     "output_type": "stream",
     "text": [
      "the item is apple and my price is 80.\n"
     ]
    }
   ],
   "source": [
    "fruit = \"apple\"\n",
    "price = 80\n",
    "formatted_string=f\"the item is {fruit} and my price is {price}.\"\n",
    "print(formatted_string)"
   ]
  },
  {
   "cell_type": "code",
   "execution_count": 36,
   "id": "2599e8ca-abdc-4fd9-bbf6-50bf4a7f92b3",
   "metadata": {},
   "outputs": [
    {
     "name": "stdout",
     "output_type": "stream",
     "text": [
      "My name is Nida and I am 20 years old.\n",
      "The area of the rectangle is 50 square units.\n",
      "Greeting: Hello, Bob!\n"
     ]
    }
   ],
   "source": [
    "\n",
    "name = \"Nida\"\n",
    "age = 20\n",
    "formatted_string = f\"My name is {name} and I am {age} years old.\"\n",
    "print(formatted_string)  \n",
    "\n",
    "\n",
    "width = 5\n",
    "height = 10\n",
    "area = f\"The area of the rectangle is {width * height} square units.\"\n",
    "print(area)  \n",
    "\n",
    "\n",
    "def greet(name):\n",
    "    return f\"Hello, {name}!\"\n",
    "\n",
    "formatted_string = f\"Greeting: {greet('Bob')}\"\n",
    "print(formatted_string)  \n"
   ]
  },
  {
   "cell_type": "markdown",
   "id": "a995c313-cc60-46c4-a718-0f5fa9a1db46",
   "metadata": {},
   "source": [
    "# String methods\n",
    "Python provides several built-in string methods that allow you to manipulate and process strings easily.\n"
   ]
  },
  {
   "cell_type": "markdown",
   "id": "94cc07bb-c2f1-4af1-881a-4d8daf3c9695",
   "metadata": {},
   "source": [
    "### string.upper():\n",
    "Converts all characters in the string to uppercase."
   ]
  },
  {
   "cell_type": "code",
   "execution_count": 37,
   "id": "751e6791-2c1b-433e-991c-40113614a6f9",
   "metadata": {},
   "outputs": [
    {
     "name": "stdout",
     "output_type": "stream",
     "text": [
      "HELLO, WORLD!\n"
     ]
    }
   ],
   "source": [
    "text = \"Hello, world!\"\n",
    "print(text.upper())  "
   ]
  },
  {
   "cell_type": "markdown",
   "id": "1a7840ac-b6f4-49c3-8a67-261a9c5ae15a",
   "metadata": {},
   "source": [
    "### string.lower():\n",
    "Converts all characters in the string to lowercase."
   ]
  },
  {
   "cell_type": "code",
   "execution_count": 38,
   "id": "566999cf-f92b-4e71-ac90-cc1ab3080078",
   "metadata": {},
   "outputs": [
    {
     "name": "stdout",
     "output_type": "stream",
     "text": [
      "good, day!\n"
     ]
    }
   ],
   "source": [
    "text = \"Good, day!\"\n",
    "print(text.lower()) "
   ]
  },
  {
   "cell_type": "markdown",
   "id": "ef0462e5-622f-4592-9844-81f195cdfa88",
   "metadata": {},
   "source": [
    "### string.capitalize():\n",
    "Converts the first character of the string to uppercase and the rest to lowercase.\n"
   ]
  },
  {
   "cell_type": "code",
   "execution_count": 39,
   "id": "85ddca9b-8fbc-4859-888e-d64c2b5cacea",
   "metadata": {},
   "outputs": [
    {
     "name": "stdout",
     "output_type": "stream",
     "text": [
      "Python programming!\n"
     ]
    }
   ],
   "source": [
    "text = \"Python Programming!\"\n",
    "print(text.capitalize()) "
   ]
  },
  {
   "cell_type": "markdown",
   "id": "8e2dc18d-4d9c-4cf5-b3ca-b7f36f9d92eb",
   "metadata": {},
   "source": [
    "### len(string):\n",
    "Returns the length of the string (number of characters)."
   ]
  },
  {
   "cell_type": "code",
   "execution_count": 40,
   "id": "92378533-28b0-4e35-9c3b-2de7bcfeb6bb",
   "metadata": {},
   "outputs": [
    {
     "name": "stdout",
     "output_type": "stream",
     "text": [
      "127\n"
     ]
    }
   ],
   "source": [
    "text = \"Data science is a multidisciplinary field that uses scientific methods, algorithms, and systems to extract knowledge from data.\"\n",
    "print(len(text)) \n"
   ]
  },
  {
   "cell_type": "markdown",
   "id": "bcac13be-d141-49f1-a2b9-16753b3f5ae5",
   "metadata": {},
   "source": [
    "### string.swapcase():\n",
    "Swaps the case of all characters in the string (uppercase becomes lowercase and vice versa)."
   ]
  },
  {
   "cell_type": "code",
   "execution_count": 43,
   "id": "945c0e0f-1b10-4b01-a305-d734c3005df7",
   "metadata": {},
   "outputs": [
    {
     "name": "stdout",
     "output_type": "stream",
     "text": [
      "pYTHON pROGRAMMING Is FUN!\n"
     ]
    }
   ],
   "source": [
    "text = \"Python Programming iS fun!\"\n",
    "swapped_text = text.swapcase()\n",
    "print(swapped_text)  \n"
   ]
  },
  {
   "cell_type": "markdown",
   "id": "6c8016da-387a-4674-8564-3638bd3f7b58",
   "metadata": {},
   "source": [
    "### find(substring)\n",
    "\n",
    "Returns the lowest index of the substring if found, or -1 if not found."
   ]
  },
  {
   "cell_type": "code",
   "execution_count": 44,
   "id": "5e6531dc-9449-44d1-83bd-346d1784ca5c",
   "metadata": {},
   "outputs": [
    {
     "name": "stdout",
     "output_type": "stream",
     "text": [
      "6\n"
     ]
    }
   ],
   "source": [
    "text = \"hello world\"\n",
    "print(text.find(\"world\")) "
   ]
  },
  {
   "cell_type": "markdown",
   "id": "82056c55-5b0e-436b-b2a6-e84531799ae3",
   "metadata": {},
   "source": [
    "### join(iterable)\n",
    "Joins the elements of an iterable (like a list) into a single string with a separator."
   ]
  },
  {
   "cell_type": "code",
   "execution_count": 50,
   "id": "51a70e41-6fc9-42b3-bb79-13f3b5257555",
   "metadata": {},
   "outputs": [
    {
     "name": "stdout",
     "output_type": "stream",
     "text": [
      "apple, banana, orange\n"
     ]
    }
   ],
   "source": [
    "fruits = ['apple', 'banana', 'orange']\n",
    "print(\", \".join(fruits))  \n"
   ]
  },
  {
   "cell_type": "markdown",
   "id": "297e8970-0cc4-453f-a49b-c9b956e9fb2d",
   "metadata": {},
   "source": [
    "### startswith(substring)\n",
    "Returns True if the string starts with the specified substring."
   ]
  },
  {
   "cell_type": "code",
   "execution_count": 51,
   "id": "cbc0131d-4e4c-41d2-a629-b9d2ade2ac79",
   "metadata": {},
   "outputs": [
    {
     "name": "stdout",
     "output_type": "stream",
     "text": [
      "True\n"
     ]
    }
   ],
   "source": [
    "text = \"hello world\"\n",
    "print(text.startswith(\"hello\"))  \n"
   ]
  },
  {
   "cell_type": "markdown",
   "id": "6b7dc616-e4d3-4553-8733-43d0de31f03f",
   "metadata": {},
   "source": [
    "### endswith(substring)\n",
    "Returns True if the string ends with the specified substring."
   ]
  },
  {
   "cell_type": "code",
   "execution_count": 52,
   "id": "e4bc8fa1-8f22-4b3e-a781-31179c7a7261",
   "metadata": {},
   "outputs": [
    {
     "name": "stdout",
     "output_type": "stream",
     "text": [
      "True\n"
     ]
    }
   ],
   "source": [
    "text = \"hello world\"\n",
    "print(text.endswith(\"world\"))  \n"
   ]
  },
  {
   "cell_type": "markdown",
   "id": "9f01098c-7aaf-4aeb-ac9b-99c8b45135c8",
   "metadata": {},
   "source": [
    "### split(separator)\n",
    "Splits the string into a list of substrings based on the specified separator."
   ]
  },
  {
   "cell_type": "code",
   "execution_count": 49,
   "id": "69771b37-da25-4680-9930-d0951e1b29cd",
   "metadata": {},
   "outputs": [
    {
     "name": "stdout",
     "output_type": "stream",
     "text": [
      "['apple', 'banana', 'orange']\n"
     ]
    }
   ],
   "source": [
    "text = \"apple,banana,orange\"\n",
    "print(text.split(\",\")) \n"
   ]
  },
  {
   "cell_type": "markdown",
   "id": "b7825f6a-03be-429e-b7b8-6cdeb491edf5",
   "metadata": {},
   "source": [
    "### replace(old, new)\n",
    "Replaces occurrences of a substring with a new string."
   ]
  },
  {
   "cell_type": "code",
   "execution_count": 58,
   "id": "366b815d-dc4d-4c36-9a6a-84f4e781641f",
   "metadata": {},
   "outputs": [
    {
     "name": "stdout",
     "output_type": "stream",
     "text": [
      "hello Python\n"
     ]
    }
   ],
   "source": [
    "text = \"hello world\"\n",
    "print(text.replace(\"world\", \"Python\"))  \n"
   ]
  },
  {
   "cell_type": "markdown",
   "id": "be7ffbdb-4fe7-4757-8321-dc4607be3a2c",
   "metadata": {},
   "source": [
    "### strip()\n",
    "Removes leading and trailing whitespace (or specified characters).\n"
   ]
  },
  {
   "cell_type": "code",
   "execution_count": 56,
   "id": "ae1a0b92-0b7c-48d0-8bc0-32b761d8d96d",
   "metadata": {},
   "outputs": [
    {
     "name": "stdout",
     "output_type": "stream",
     "text": [
      "Good Morning\n"
     ]
    }
   ],
   "source": [
    "text = \"Good Morning\"\n",
    "print(text.strip()) \n"
   ]
  },
  {
   "cell_type": "markdown",
   "id": "91b6c717-539a-4f8f-a3f4-386d551947c0",
   "metadata": {},
   "source": [
    "### isdigit()\n",
    "Returns True if all characters in the string are digits, otherwise False."
   ]
  },
  {
   "cell_type": "code",
   "execution_count": 57,
   "id": "514b6688-aebe-4b12-9b94-a376a1d9219e",
   "metadata": {},
   "outputs": [
    {
     "name": "stdout",
     "output_type": "stream",
     "text": [
      "True\n"
     ]
    }
   ],
   "source": [
    "text = \"12345\"\n",
    "print(text.isdigit())  \n"
   ]
  },
  {
   "cell_type": "markdown",
   "id": "db05d1b8-e601-498a-ab91-922944326d43",
   "metadata": {},
   "source": [
    "### isalpha()\n",
    "Returns True if all characters in the string are alphabetic, otherwise False."
   ]
  },
  {
   "cell_type": "code",
   "execution_count": 60,
   "id": "1b0c372d-c34e-4af1-830c-a463a3459994",
   "metadata": {},
   "outputs": [
    {
     "name": "stdout",
     "output_type": "stream",
     "text": [
      "True\n"
     ]
    }
   ],
   "source": [
    "text = \"Hello\"\n",
    "print(text.isalpha())  \n"
   ]
  },
  {
   "cell_type": "markdown",
   "id": "1552a857-95fd-4fd1-9816-554f82c55454",
   "metadata": {},
   "source": [
    "### rfind(substring)\n",
    "Returns the highest index where the substring is found, or -1 if it's not found."
   ]
  },
  {
   "cell_type": "code",
   "execution_count": 64,
   "id": "0a52b81c-ba55-4c1d-85a5-88a6c6acd1af",
   "metadata": {},
   "outputs": [
    {
     "name": "stdout",
     "output_type": "stream",
     "text": [
      "19\n"
     ]
    }
   ],
   "source": [
    "text = \"Python programming is fun\"\n",
    "print(text.rfind(\"is\"))  \n"
   ]
  },
  {
   "cell_type": "markdown",
   "id": "937c98e0-96fd-48db-ba87-0100b7e44630",
   "metadata": {},
   "source": [
    "\n",
    "### title()\n",
    "Converts the first character of each word to uppercase."
   ]
  },
  {
   "cell_type": "code",
   "execution_count": 63,
   "id": "345cd25c-db8d-47e7-8719-ad3bdb64ad43",
   "metadata": {},
   "outputs": [
    {
     "name": "stdout",
     "output_type": "stream",
     "text": [
      "Python Programming Is Fun\n"
     ]
    }
   ],
   "source": [
    "text = \"python programming is fun\"\n",
    "print(text.title())  \n"
   ]
  },
  {
   "cell_type": "markdown",
   "id": "69979ab0-bb71-4e54-9fd4-4cf69ea62e76",
   "metadata": {},
   "source": [
    "### string.isspace(): \n",
    "Checks if all characters in the string are whitespace.\n"
   ]
  },
  {
   "cell_type": "code",
   "execution_count": 67,
   "id": "c547b17b-794a-4308-a283-8959307168a2",
   "metadata": {},
   "outputs": [
    {
     "name": "stdout",
     "output_type": "stream",
     "text": [
      "True\n"
     ]
    }
   ],
   "source": [
    "text = \"   \"  \n",
    "print(text.isspace()) \n"
   ]
  },
  {
   "cell_type": "code",
   "execution_count": 68,
   "id": "d9a1a6b4-06c7-4aab-97bf-f3978e205a98",
   "metadata": {},
   "outputs": [
    {
     "name": "stdout",
     "output_type": "stream",
     "text": [
      "False\n"
     ]
    }
   ],
   "source": [
    "text = \"  Hello  \"\n",
    "print(text.isspace())  \n"
   ]
  },
  {
   "cell_type": "markdown",
   "id": "73ef2c9e-f716-46a3-9d78-195c1b1a520a",
   "metadata": {},
   "source": [
    "### count(substring)\n",
    "Counts the number of non-overlapping occurrences of a substring."
   ]
  },
  {
   "cell_type": "code",
   "execution_count": 65,
   "id": "20e751a6-a129-4bde-82db-8202d0ee50c1",
   "metadata": {},
   "outputs": [
    {
     "name": "stdout",
     "output_type": "stream",
     "text": [
      "3\n"
     ]
    }
   ],
   "source": [
    "text = \"banana\"\n",
    "print(text.count(\"a\"))  \n"
   ]
  },
  {
   "cell_type": "code",
   "execution_count": null,
   "id": "0278a797-17b2-4e7a-9bb3-e36639115915",
   "metadata": {},
   "outputs": [],
   "source": []
  }
 ],
 "metadata": {
  "kernelspec": {
   "display_name": "Python 3 (ipykernel)",
   "language": "python",
   "name": "python3"
  },
  "language_info": {
   "codemirror_mode": {
    "name": "ipython",
    "version": 3
   },
   "file_extension": ".py",
   "mimetype": "text/x-python",
   "name": "python",
   "nbconvert_exporter": "python",
   "pygments_lexer": "ipython3",
   "version": "3.12.4"
  }
 },
 "nbformat": 4,
 "nbformat_minor": 5
}
